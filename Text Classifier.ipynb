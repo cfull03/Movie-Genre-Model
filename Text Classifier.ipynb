{
 "cells": [
  {
   "cell_type": "code",
   "execution_count": 3,
   "id": "c1f6344c-4fcb-441d-9441-e1b2f05be4a1",
   "metadata": {},
   "outputs": [],
   "source": [
    "import pandas as pd\n",
    "import torch\n",
    "import torch.nn as nn\n",
    "import torch.optim as optim\n",
    "import torch.nn.functional as F\n",
    "from torch.utils.data import Dataset, DataLoader\n",
    "from transformers import BertTokenizer\n",
    "from tqdm import tqdm\n",
    "from sklearn.model_selection import train_test_split\n",
    "from sklearn.metrics import f1_score, accuracy_score, precision_score, recall_score\n",
    "from typing import Dict, Any, Tuple, Optional"
   ]
  },
  {
   "cell_type": "code",
   "execution_count": 4,
   "id": "8beb4909-8c71-4dc1-82f4-15d43b17c03d",
   "metadata": {
    "scrolled": true
   },
   "outputs": [
    {
     "data": {
      "text/plain": [
       "movie_name     0\n",
       "genre          3\n",
       "description    0\n",
       "dtype: int64"
      ]
     },
     "execution_count": 4,
     "metadata": {},
     "output_type": "execute_result"
    }
   ],
   "source": [
    "tokenizer = BertTokenizer.from_pretrained('bert-base-uncased')\n",
    "movies_df = pd.read_csv('top_movies.csv')\n",
    "movies_df.isna().sum()"
   ]
  },
  {
   "cell_type": "code",
   "execution_count": 5,
   "id": "ec933c83-a14f-4c98-9940-a24c694fe428",
   "metadata": {},
   "outputs": [
    {
     "data": {
      "text/plain": [
       "movie_name     0\n",
       "genre          0\n",
       "description    0\n",
       "dtype: int64"
      ]
     },
     "execution_count": 5,
     "metadata": {},
     "output_type": "execute_result"
    }
   ],
   "source": [
    "movies_df = movies_df.dropna()\n",
    "movies_df.isna().sum()"
   ]
  },
  {
   "cell_type": "code",
   "execution_count": 6,
   "id": "70c83de8-4013-41ec-97ca-8fe8c628ae40",
   "metadata": {},
   "outputs": [
    {
     "name": "stdout",
     "output_type": "stream",
     "text": [
      "\n",
      "✅ Total empty sequences found: 0\n"
     ]
    }
   ],
   "source": [
    "tokenizer = BertTokenizer.from_pretrained('bert-base-uncased')\n",
    "\n",
    "empty_sequences = []\n",
    "\n",
    "for idx, description in enumerate(movies_df['description'].tolist()):\n",
    "    encoding = tokenizer(\n",
    "        description,\n",
    "        truncation=True,\n",
    "        padding='max_length',\n",
    "        max_length=128,\n",
    "        return_tensors='pt'\n",
    "    )\n",
    "\n",
    "    attention_mask = encoding['attention_mask'].squeeze(0)\n",
    "    if attention_mask.sum().item() == 0:\n",
    "        print(f\"⚠️ Empty sequence found at index {idx}: {description}\")\n",
    "        empty_sequences.append(idx)\n",
    "\n",
    "print(f\"\\n✅ Total empty sequences found: {len(empty_sequences)}\")"
   ]
  },
  {
   "cell_type": "code",
   "execution_count": 7,
   "id": "b2d01ff7-8a19-482d-9204-c6a39aff0077",
   "metadata": {},
   "outputs": [
    {
     "name": "stdout",
     "output_type": "stream",
     "text": [
      "Genre to index mapping: {'Action': 0, 'Adventure': 1, 'Animation': 2, 'Comedy': 3, 'Crime': 4, 'Drama': 5, 'Family': 6, 'Fantasy': 7, 'History': 8, 'Horror': 9, 'Music': 10, 'Mystery': 11, 'Romance': 12, 'Science Fiction': 13, 'TV Movie': 14, 'Thriller': 15, 'War': 16, 'Western': 17}\n"
     ]
    }
   ],
   "source": [
    "all_genres = set()\n",
    "for genres in movies_df['genre']:\n",
    "    for genre in genres.split(','):\n",
    "        all_genres.add(genre.strip())\n",
    "        \n",
    "genre_to_index = {genre: idx for idx, genre in enumerate(sorted(all_genres))}\n",
    "\n",
    "print(\"Genre to index mapping:\", genre_to_index)"
   ]
  },
  {
   "cell_type": "code",
   "execution_count": 8,
   "id": "45c54bea-4399-4631-a1e8-8cfae2205329",
   "metadata": {},
   "outputs": [],
   "source": [
    "class MovieDescriptionDataset(Dataset):\n",
    "    def __init__(self, dataframe, tokenizer, genre_to_index: Dict[str, int], max_length: int = 128):\n",
    "        self.descriptions = dataframe['description'].tolist()\n",
    "        self.genres = dataframe['genre'].tolist()\n",
    "        self.tokenizer = tokenizer\n",
    "        self.genre_to_index = genre_to_index\n",
    "        self.max_length = max_length\n",
    "\n",
    "    def __len__(self) -> int:\n",
    "        return len(self.descriptions)\n",
    "\n",
    "    def __getitem__(self, idx: int) -> Dict[str, Any]:\n",
    "        description = self.descriptions[idx]\n",
    "        genre_string = self.genres[idx]\n",
    "\n",
    "        encoding = self.tokenizer(\n",
    "            description,\n",
    "            truncation=True,\n",
    "            padding='max_length',\n",
    "            max_length=self.max_length,\n",
    "            return_tensors='pt'\n",
    "        )\n",
    "\n",
    "        label = torch.zeros(len(self.genre_to_index))\n",
    "        for genre in genre_string.split(','):\n",
    "            genre = genre.strip()\n",
    "            if genre in self.genre_to_index:\n",
    "                label[self.genre_to_index[genre]] = 1\n",
    "\n",
    "        return {\n",
    "            'input_ids': encoding['input_ids'].squeeze(0),\n",
    "            'attention_mask': encoding['attention_mask'].squeeze(0),\n",
    "            'labels': label\n",
    "        }"
   ]
  },
  {
   "cell_type": "code",
   "execution_count": 9,
   "id": "db4ad6f8-47ff-4076-9972-d23b7c18211c",
   "metadata": {},
   "outputs": [],
   "source": [
    "train_df, val_df = train_test_split(movies_df, test_size=0.2, random_state=42)"
   ]
  },
  {
   "cell_type": "code",
   "execution_count": 10,
   "id": "d1780ee0-d3e3-4586-9831-d5a922fea4c7",
   "metadata": {
    "scrolled": true
   },
   "outputs": [
    {
     "name": "stdout",
     "output_type": "stream",
     "text": [
      "7533\n"
     ]
    }
   ],
   "source": [
    "train_dataset = MovieDescriptionDataset(train_df, tokenizer, genre_to_index, max_length=128)\n",
    "val_dataset = MovieDescriptionDataset(val_df, tokenizer, genre_to_index, max_length=128)\n",
    "\n",
    "print(len(train_dataset))"
   ]
  },
  {
   "cell_type": "code",
   "execution_count": 11,
   "id": "fa194d91-38f1-440d-8c2f-01badb05c850",
   "metadata": {},
   "outputs": [
    {
     "name": "stdout",
     "output_type": "stream",
     "text": [
      "Input IDs: tensor([  101,  1999,  1996,  3865,  1010,  1037,  7101,  2003,  4704,  2011,\n",
      "         2010,  2316,  2074,  2077,  2027,  2468,  2600, 18795,  2015,  1012,\n",
      "         3174,  2086,  2101,  1010,  1996,  7101,  5927,  2010,  2117,  3382,\n",
      "         2012,  2732,  9527, 13368,  2043,  2002,  2003,  2356,  2000,  4685,\n",
      "         2007,  2010,  9454,  7833,  1005,  1055,  2152,  2082,  2600,  2316,\n",
      "         1012,   102,     0,     0,     0,     0,     0,     0,     0,     0,\n",
      "            0,     0,     0,     0,     0,     0,     0,     0,     0,     0,\n",
      "            0,     0,     0,     0,     0,     0,     0,     0,     0,     0,\n",
      "            0,     0,     0,     0,     0,     0,     0,     0,     0,     0,\n",
      "            0,     0,     0,     0,     0,     0,     0,     0,     0,     0,\n",
      "            0,     0,     0,     0,     0,     0,     0,     0,     0,     0,\n",
      "            0,     0,     0,     0,     0,     0,     0,     0,     0,     0,\n",
      "            0,     0,     0,     0,     0,     0,     0,     0])\n",
      "Attention Mask: tensor([1, 1, 1, 1, 1, 1, 1, 1, 1, 1, 1, 1, 1, 1, 1, 1, 1, 1, 1, 1, 1, 1, 1, 1,\n",
      "        1, 1, 1, 1, 1, 1, 1, 1, 1, 1, 1, 1, 1, 1, 1, 1, 1, 1, 1, 1, 1, 1, 1, 1,\n",
      "        1, 1, 1, 1, 0, 0, 0, 0, 0, 0, 0, 0, 0, 0, 0, 0, 0, 0, 0, 0, 0, 0, 0, 0,\n",
      "        0, 0, 0, 0, 0, 0, 0, 0, 0, 0, 0, 0, 0, 0, 0, 0, 0, 0, 0, 0, 0, 0, 0, 0,\n",
      "        0, 0, 0, 0, 0, 0, 0, 0, 0, 0, 0, 0, 0, 0, 0, 0, 0, 0, 0, 0, 0, 0, 0, 0,\n",
      "        0, 0, 0, 0, 0, 0, 0, 0])\n",
      "Labels: tensor([0., 0., 0., 1., 0., 0., 0., 0., 0., 0., 1., 0., 0., 0., 0., 0., 0., 0.])\n"
     ]
    }
   ],
   "source": [
    "sample = train_dataset[0]\n",
    "\n",
    "print(\"Input IDs:\", sample['input_ids'])\n",
    "print(\"Attention Mask:\", sample['attention_mask'])\n",
    "print(\"Labels:\", sample['labels'])"
   ]
  },
  {
   "cell_type": "code",
   "execution_count": 12,
   "id": "b7157935-0720-48a6-bf53-02e36dcc0530",
   "metadata": {},
   "outputs": [],
   "source": [
    "train_dataloader = DataLoader(train_dataset, batch_size=8, shuffle=True)\n",
    "val_dataloader = DataLoader(val_dataset, batch_size=8, shuffle=False)"
   ]
  },
  {
   "cell_type": "code",
   "execution_count": 13,
   "id": "7b4a662a-5d9f-4088-b0f3-8c55247d35f2",
   "metadata": {},
   "outputs": [],
   "source": [
    "class SelfAttentionPooling(nn.Module):\n",
    "    def __init__(self, emb_dim):\n",
    "        super().__init__()\n",
    "        self.attention_vector = nn.Parameter(torch.randn(emb_dim))\n",
    "\n",
    "    def forward(self, x, attention_mask):\n",
    "        # x: [batch_size, seq_length, emb_dim]\n",
    "        scores = torch.matmul(x, self.attention_vector)  # [batch_size, seq_length]\n",
    "        scores = scores.masked_fill(~attention_mask.bool(), float('-inf'))  # Mask out padding tokens\n",
    "        attention_weights = torch.softmax(scores, dim=1).unsqueeze(-1)  # [batch_size, seq_length, 1]\n",
    "\n",
    "        pooled = (x * attention_weights).sum(dim=1)  # Weighted sum: [batch_size, emb_dim]\n",
    "        return pooled"
   ]
  },
  {
   "cell_type": "code",
   "execution_count": 14,
   "id": "29bac456-25a4-4923-96d6-c74e92166668",
   "metadata": {},
   "outputs": [],
   "source": [
    "class TextClassifier(nn.Module):\n",
    "    def __init__(\n",
    "        self,\n",
    "        vocab_size: int,\n",
    "        emb_dim: int,\n",
    "        hidden_dim: int,\n",
    "        num_classes: int,\n",
    "        num_heads: int = 8,\n",
    "        max_seq_length: int = 512,\n",
    "        num_attention_layers: int = 4, \n",
    "        feedforward_dim: int = 256,\n",
    "        num_dropout_samples: int = 8\n",
    "    ) -> None:\n",
    "        super().__init__()\n",
    "        self.num_dropout_samples = num_dropout_samples\n",
    "        self.mc_dropout_enabled = True \n",
    "\n",
    "        self.emb = nn.Embedding(vocab_size, emb_dim)\n",
    "        self.positional_encoding = nn.Parameter(torch.zeros(1, max_seq_length, emb_dim))\n",
    "\n",
    "        self.attention_pooling = SelfAttentionPooling(emb_dim)\n",
    "\n",
    "        transformer_layer = nn.TransformerEncoderLayer(\n",
    "            d_model=emb_dim,\n",
    "            nhead=num_heads,\n",
    "            dim_feedforward=feedforward_dim,\n",
    "            dropout=0.3,\n",
    "            batch_first=True\n",
    "        )\n",
    "\n",
    "        self.transformer_encoder = nn.TransformerEncoder(\n",
    "            transformer_layer,\n",
    "            num_layers=num_attention_layers\n",
    "        )\n",
    "\n",
    "        self.dropout = nn.Dropout(0.5)\n",
    "\n",
    "        self.fc1 = nn.Linear(emb_dim, hidden_dim)\n",
    "        self.fc2 = nn.Linear(hidden_dim, hidden_dim // 2)\n",
    "        self.fc3 = nn.Linear(hidden_dim // 2, num_classes)\n",
    "\n",
    "        self.layernorm_final = nn.LayerNorm(hidden_dim // 2)\n",
    "\n",
    "    def forward(self, x: torch.Tensor, attention_mask: torch.Tensor, debugging: bool = False) -> torch.Tensor:\n",
    "        if debugging:\n",
    "            print(f\"Input shape after embedding input IDs: {x.shape}\")\n",
    "\n",
    "        x = self.emb(x) + self.positional_encoding[:, :x.size(1), :]\n",
    "        x = self.transformer_encoder(x, src_key_padding_mask=~attention_mask.bool())\n",
    "\n",
    "        if debugging:\n",
    "            print(f\"Output shape after transformer: {x.shape}\")\n",
    "\n",
    "        x = self.attention_pooling(x, attention_mask)\n",
    "\n",
    "        if debugging:\n",
    "            print(f\"Output shape after attention pooling: {x.shape}\")\n",
    "\n",
    "        residual = x\n",
    "        x = F.relu(self.fc1(x))\n",
    "        x = F.relu(self.fc2(x))\n",
    "        x = self.layernorm_final(x + residual)\n",
    "\n",
    "        if debugging:\n",
    "            print(f\"Shape before final classifier: {x.shape}\")\n",
    "\n",
    "        if self.training and self.mc_dropout_enabled:\n",
    "            logits_list = []\n",
    "            for _ in range(self.num_dropout_samples):\n",
    "                dropped = self.dropout(x)\n",
    "                logits = self.fc3(dropped)\n",
    "                logits_list.append(logits)\n",
    "\n",
    "            if debugging:\n",
    "                print(f\"Shape of each logits before stacking: {logits.shape}\")\n",
    "\n",
    "            logits = torch.stack(logits_list, dim=0).mean(dim=0)\n",
    "\n",
    "            if debugging:\n",
    "                print(f\"Final logits shape after averaging dropout samples: {logits.shape}\")\n",
    "        else:\n",
    "            logits = self.fc3(x)\n",
    "            if debugging:\n",
    "                print(f\"Final logits shape (single pass): {logits.shape}\")\n",
    "\n",
    "        return logits"
   ]
  },
  {
   "cell_type": "code",
   "execution_count": 15,
   "id": "20e6c8f6-312c-473b-b0ac-33bf025996fe",
   "metadata": {},
   "outputs": [],
   "source": [
    "class FocalLoss(nn.Module):\n",
    "    def __init__(self, gamma: float = 2.0, pos_weight: Optional[torch.Tensor] = None, reduction: str = 'mean') -> None:\n",
    "        super(FocalLoss, self).__init__()\n",
    "        self.gamma = gamma\n",
    "        self.pos_weight = pos_weight\n",
    "        self.reduction = reduction\n",
    "\n",
    "    def forward(self, logits: torch.Tensor, targets: torch.Tensor) -> torch.Tensor:\n",
    "        bce_loss = F.binary_cross_entropy_with_logits(logits, targets, pos_weight=self.pos_weight, reduction='none')\n",
    "        \n",
    "        probs = torch.sigmoid(logits)\n",
    "        probs = torch.clamp(probs, min=1e-6, max=1 - 1e-6)\n",
    "\n",
    "        focal_weight = torch.where(targets == 1, 1 - probs, probs) ** self.gamma\n",
    "        loss = focal_weight * bce_loss\n",
    "\n",
    "        if self.reduction == 'mean':\n",
    "            return loss.mean()\n",
    "        elif self.reduction == 'sum':\n",
    "            return loss.sum()\n",
    "        else:\n",
    "            return loss"
   ]
  },
  {
   "cell_type": "code",
   "execution_count": 16,
   "id": "cc9bfbd9-81bb-47b6-bacb-74b8c27acff1",
   "metadata": {},
   "outputs": [],
   "source": [
    "device = torch.device('cuda' if torch.cuda.is_available() else 'cpu')"
   ]
  },
  {
   "cell_type": "code",
   "execution_count": 17,
   "id": "119d977a-a1cf-4371-8b0e-d3191eb21f5a",
   "metadata": {},
   "outputs": [],
   "source": [
    "vocab_size = 30522\n",
    "emb_dim = 128\n",
    "hidden_dim = 256\n",
    "num_heads = 8\n",
    "\n",
    "num_classes = len(genre_to_index)\n",
    "max_seq_length = 512\n",
    "num_attention_layers = 4\n",
    "feedforward_dim = 256\n",
    "num_dropout_samples = 5\n",
    "\n",
    "batch_size = 16"
   ]
  },
  {
   "cell_type": "code",
   "execution_count": 18,
   "id": "9455f1cc-7443-4375-bc6d-fdd0c9e6f3bc",
   "metadata": {},
   "outputs": [],
   "source": [
    "model = TextClassifier(\n",
    "    vocab_size=vocab_size,\n",
    "    emb_dim=emb_dim,\n",
    "    hidden_dim=hidden_dim,\n",
    "    num_classes=num_classes,\n",
    "    num_heads=num_heads,\n",
    "    max_seq_length=max_seq_length,\n",
    "    num_attention_layers=num_attention_layers,\n",
    "    feedforward_dim=feedforward_dim,\n",
    "    num_dropout_samples=num_dropout_samples\n",
    ").to(device)"
   ]
  },
  {
   "cell_type": "code",
   "execution_count": 19,
   "id": "1d5d623c-33db-4654-afd0-5c3b1526502f",
   "metadata": {},
   "outputs": [],
   "source": [
    "criterion = FocalLoss()\n",
    "optimizer = optim.AdamW(model.parameters(), lr=1e-4, weight_decay=1e-5)"
   ]
  },
  {
   "cell_type": "code",
   "execution_count": 20,
   "id": "9b771bdc-c06d-4b20-85b5-021fea3dcde1",
   "metadata": {},
   "outputs": [
    {
     "name": "stdout",
     "output_type": "stream",
     "text": [
      "\n",
      "Epoch [1/10]\n"
     ]
    },
    {
     "name": "stderr",
     "output_type": "stream",
     "text": [
      "Epoch [1/10]: 100%|████████████████| 942/942 [02:36<00:00,  6.02it/s, loss=0.12]\n",
      "/opt/anaconda3/lib/python3.12/site-packages/torch/nn/modules/transformer.py:384: UserWarning: The PyTorch API of nested tensors is in prototype stage and will change in the near future. (Triggered internally at /Users/runner/work/pytorch/pytorch/pytorch/aten/src/ATen/NestedTensorImpl.cpp:179.)\n",
      "  output = torch._nested_tensor_from_mask(output, src_key_padding_mask.logical_not(), mask_check=False)\n"
     ]
    },
    {
     "name": "stdout",
     "output_type": "stream",
     "text": [
      "\n",
      "Epoch 1 Summary:\n",
      "Train Loss: 0.1076 | Val Loss: 0.0960\n",
      "Train Precision: 0.2847 | Val Precision: 0.3621\n",
      "Train Recall:    0.4156    | Val Recall:    0.4621\n",
      "Train F1 Score:  0.3379        | Val F1 Score:  0.4060\n",
      "Train Subset Acc: 0.0049 | Val Subset Acc: 0.0011\n",
      "\n",
      "Epoch [2/10]\n"
     ]
    },
    {
     "name": "stderr",
     "output_type": "stream",
     "text": [
      "Epoch [2/10]: 100%|██████████████| 942/942 [02:37<00:00,  5.97it/s, loss=0.0895]\n"
     ]
    },
    {
     "name": "stdout",
     "output_type": "stream",
     "text": [
      "\n",
      "Epoch 2 Summary:\n",
      "Train Loss: 0.1010 | Val Loss: 0.0953\n",
      "Train Precision: 0.3152 | Val Precision: 0.4066\n",
      "Train Recall:    0.4153    | Val Recall:    0.3594\n",
      "Train F1 Score:  0.3584        | Val F1 Score:  0.3816\n",
      "Train Subset Acc: 0.0077 | Val Subset Acc: 0.0318\n",
      "\n",
      "Epoch [3/10]\n"
     ]
    },
    {
     "name": "stderr",
     "output_type": "stream",
     "text": [
      "Epoch [3/10]: 100%|███████████████| 942/942 [02:26<00:00,  6.42it/s, loss=0.088]\n"
     ]
    },
    {
     "name": "stdout",
     "output_type": "stream",
     "text": [
      "\n",
      "Epoch 3 Summary:\n",
      "Train Loss: 0.0978 | Val Loss: 0.0924\n",
      "Train Precision: 0.3468 | Val Precision: 0.3816\n",
      "Train Recall:    0.4517    | Val Recall:    0.4961\n",
      "Train F1 Score:  0.3923        | Val F1 Score:  0.4314\n",
      "Train Subset Acc: 0.0181 | Val Subset Acc: 0.0249\n",
      "\n",
      "Epoch [4/10]\n"
     ]
    },
    {
     "name": "stderr",
     "output_type": "stream",
     "text": [
      "Epoch [4/10]: 100%|███████████████| 942/942 [02:36<00:00,  6.01it/s, loss=0.116]\n"
     ]
    },
    {
     "name": "stdout",
     "output_type": "stream",
     "text": [
      "\n",
      "Epoch 4 Summary:\n",
      "Train Loss: 0.0944 | Val Loss: 0.0905\n",
      "Train Precision: 0.3692 | Val Precision: 0.3910\n",
      "Train Recall:    0.4922    | Val Recall:    0.5169\n",
      "Train F1 Score:  0.4219        | Val F1 Score:  0.4452\n",
      "Train Subset Acc: 0.0259 | Val Subset Acc: 0.0292\n",
      "\n",
      "Epoch [5/10]\n"
     ]
    },
    {
     "name": "stderr",
     "output_type": "stream",
     "text": [
      "Epoch [5/10]: 100%|██████████████| 942/942 [02:37<00:00,  5.99it/s, loss=0.0762]\n"
     ]
    },
    {
     "name": "stdout",
     "output_type": "stream",
     "text": [
      "\n",
      "Epoch 5 Summary:\n",
      "Train Loss: 0.0912 | Val Loss: 0.0885\n",
      "Train Precision: 0.3883 | Val Precision: 0.4045\n",
      "Train Recall:    0.5248    | Val Recall:    0.5413\n",
      "Train F1 Score:  0.4464        | Val F1 Score:  0.4630\n",
      "Train Subset Acc: 0.0281 | Val Subset Acc: 0.0287\n",
      "\n",
      "Epoch [6/10]\n"
     ]
    },
    {
     "name": "stderr",
     "output_type": "stream",
     "text": [
      "Epoch [6/10]: 100%|██████████████| 942/942 [02:42<00:00,  5.81it/s, loss=0.0956]\n"
     ]
    },
    {
     "name": "stdout",
     "output_type": "stream",
     "text": [
      "\n",
      "Epoch 6 Summary:\n",
      "Train Loss: 0.0884 | Val Loss: 0.0872\n",
      "Train Precision: 0.4100 | Val Precision: 0.4195\n",
      "Train Recall:    0.5575    | Val Recall:    0.5603\n",
      "Train F1 Score:  0.4725        | Val F1 Score:  0.4798\n",
      "Train Subset Acc: 0.0321 | Val Subset Acc: 0.0318\n",
      "\n",
      "Epoch [7/10]\n"
     ]
    },
    {
     "name": "stderr",
     "output_type": "stream",
     "text": [
      "Epoch [7/10]: 100%|██████████████| 942/942 [02:46<00:00,  5.64it/s, loss=0.0757]\n"
     ]
    },
    {
     "name": "stdout",
     "output_type": "stream",
     "text": [
      "\n",
      "Epoch 7 Summary:\n",
      "Train Loss: 0.0855 | Val Loss: 0.0853\n",
      "Train Precision: 0.4239 | Val Precision: 0.4103\n",
      "Train Recall:    0.5921    | Val Recall:    0.6068\n",
      "Train F1 Score:  0.4941        | Val F1 Score:  0.4895\n",
      "Train Subset Acc: 0.0389 | Val Subset Acc: 0.0303\n",
      "\n",
      "Epoch [8/10]\n"
     ]
    },
    {
     "name": "stderr",
     "output_type": "stream",
     "text": [
      "Epoch [8/10]: 100%|███████████████| 942/942 [02:43<00:00,  5.75it/s, loss=0.082]\n"
     ]
    },
    {
     "name": "stdout",
     "output_type": "stream",
     "text": [
      "\n",
      "Epoch 8 Summary:\n",
      "Train Loss: 0.0827 | Val Loss: 0.0842\n",
      "Train Precision: 0.4392 | Val Precision: 0.4110\n",
      "Train Recall:    0.6238    | Val Recall:    0.6334\n",
      "Train F1 Score:  0.5155        | Val F1 Score:  0.4985\n",
      "Train Subset Acc: 0.0393 | Val Subset Acc: 0.0287\n",
      "\n",
      "Epoch [9/10]\n"
     ]
    },
    {
     "name": "stderr",
     "output_type": "stream",
     "text": [
      "Epoch [9/10]: 100%|██████████████| 942/942 [02:42<00:00,  5.78it/s, loss=0.0796]\n"
     ]
    },
    {
     "name": "stdout",
     "output_type": "stream",
     "text": [
      "\n",
      "Epoch 9 Summary:\n",
      "Train Loss: 0.0800 | Val Loss: 0.0826\n",
      "Train Precision: 0.4531 | Val Precision: 0.4312\n",
      "Train Recall:    0.6479    | Val Recall:    0.6308\n",
      "Train F1 Score:  0.5333        | Val F1 Score:  0.5122\n",
      "Train Subset Acc: 0.0433 | Val Subset Acc: 0.0387\n",
      "\n",
      "Epoch [10/10]\n"
     ]
    },
    {
     "name": "stderr",
     "output_type": "stream",
     "text": [
      "Epoch [10/10]: 100%|█████████████| 942/942 [02:51<00:00,  5.50it/s, loss=0.0669]\n"
     ]
    },
    {
     "name": "stdout",
     "output_type": "stream",
     "text": [
      "\n",
      "Epoch 10 Summary:\n",
      "Train Loss: 0.0776 | Val Loss: 0.0814\n",
      "Train Precision: 0.4633 | Val Precision: 0.4501\n",
      "Train Recall:    0.6663    | Val Recall:    0.6258\n",
      "Train F1 Score:  0.5466        | Val F1 Score:  0.5236\n",
      "Train Subset Acc: 0.0489 | Val Subset Acc: 0.0430\n"
     ]
    }
   ],
   "source": [
    "num_epochs = 10\n",
    "threshold = 0.4\n",
    "\n",
    "for epoch in range(num_epochs):\n",
    "    print(f\"\\nEpoch [{epoch + 1}/{num_epochs}]\")\n",
    "\n",
    "    # 🔹 Training Phase\n",
    "    model.train()\n",
    "    total_loss = 0\n",
    "    all_train_labels = []\n",
    "    all_train_preds = []\n",
    "\n",
    "    loop = tqdm(train_dataloader, leave=True)\n",
    "\n",
    "    for batch in loop:\n",
    "        input_ids = batch['input_ids'].to(device)\n",
    "        attention_mask = batch['attention_mask'].to(device)  # ✅ Get the mask\n",
    "        labels = batch['labels'].to(device).float()\n",
    "\n",
    "        # ✅ Pass the mask to the model\n",
    "        outputs = model(input_ids, attention_mask)\n",
    "        loss = criterion(outputs, labels)\n",
    "\n",
    "        optimizer.zero_grad()\n",
    "        loss.backward()\n",
    "        torch.nn.utils.clip_grad_norm_(model.parameters(), max_norm=1.0)\n",
    "        optimizer.step()\n",
    "\n",
    "        total_loss += loss.item()\n",
    "        loop.set_description(f\"Epoch [{epoch+1}/{num_epochs}]\")\n",
    "        loop.set_postfix(loss=loss.item())\n",
    "\n",
    "        probs = torch.sigmoid(outputs).detach().cpu().numpy()\n",
    "        preds = (probs >= threshold).astype(int)\n",
    "\n",
    "        all_train_labels.extend(labels.cpu().numpy())\n",
    "        all_train_preds.extend(preds)\n",
    "\n",
    "    avg_train_loss = total_loss / len(train_dataloader)\n",
    "    train_precision = precision_score(all_train_labels, all_train_preds, average='micro', zero_division=0)\n",
    "    train_recall = recall_score(all_train_labels, all_train_preds, average='micro', zero_division=0)\n",
    "    train_f1 = f1_score(all_train_labels, all_train_preds, average='micro', zero_division=0)\n",
    "    train_subset_acc = accuracy_score(all_train_labels, all_train_preds)\n",
    "\n",
    "    # 🔹 Validation Phase (Integrated)\n",
    "    model.eval()\n",
    "    val_loss = 0\n",
    "    all_val_labels = []\n",
    "    all_val_preds = []\n",
    "\n",
    "    with torch.no_grad():\n",
    "        for batch in val_dataloader:\n",
    "            input_ids = batch['input_ids'].to(device)\n",
    "            attention_mask = batch['attention_mask'].to(device)\n",
    "            labels = batch['labels'].to(device).float()\n",
    "\n",
    "            outputs = model(input_ids, attention_mask)\n",
    "            loss = criterion(outputs, labels)\n",
    "            val_loss += loss.item()\n",
    "\n",
    "            probs = torch.sigmoid(outputs).cpu().numpy()\n",
    "            preds = (probs >= threshold).astype(int)\n",
    "\n",
    "            all_val_labels.extend(labels.cpu().numpy())\n",
    "            all_val_preds.extend(preds)\n",
    "\n",
    "    avg_val_loss = val_loss / len(val_dataloader)\n",
    "    val_precision = precision_score(all_val_labels, all_val_preds, average='micro', zero_division=0)\n",
    "    val_recall = recall_score(all_val_labels, all_val_preds, average='micro', zero_division=0)\n",
    "    val_f1 = f1_score(all_val_labels, all_val_preds, average='micro', zero_division=0)\n",
    "    val_subset_acc = accuracy_score(all_val_labels, all_val_preds)\n",
    "\n",
    "    print(f\"\\nEpoch {epoch + 1} Summary:\")\n",
    "    print(f\"Train Loss: {avg_train_loss:.4f} | Val Loss: {avg_val_loss:.4f}\")\n",
    "    print(f\"Train Precision: {train_precision:.4f} | Val Precision: {val_precision:.4f}\")\n",
    "    print(f\"Train Recall:    {train_recall:.4f}    | Val Recall:    {val_recall:.4f}\")\n",
    "    print(f\"Train F1 Score:  {train_f1:.4f}        | Val F1 Score:  {val_f1:.4f}\")\n",
    "    print(f\"Train Subset Acc: {train_subset_acc:.4f} | Val Subset Acc: {val_subset_acc:.4f}\")\n"
   ]
  },
  {
   "cell_type": "code",
   "execution_count": 23,
   "id": "02e0b432-6d05-44c3-9e87-bbf78c2c39a2",
   "metadata": {},
   "outputs": [],
   "source": [
    "torch.save(model.state_dict(), \"movie_genre_model.pth\")"
   ]
  },
  {
   "cell_type": "code",
   "execution_count": 27,
   "id": "ba7714fe-cab8-4687-b1b1-19ac9099ae9c",
   "metadata": {},
   "outputs": [],
   "source": [
    "def predict_genres(description, model, tokenizer, genre_to_index, threshold=0.5, device=None):\n",
    "    if device is None:\n",
    "        device = 'cuda' if torch.cuda.is_available() else 'cpu'\n",
    "\n",
    "    model.to(device)\n",
    "    model.eval()\n",
    "    \n",
    "    index_to_genre = {v: k for k, v in genre_to_index.items()}\n",
    "\n",
    "    # Tokenize the input description\n",
    "    encoding = tokenizer(\n",
    "        description,\n",
    "        truncation=True,\n",
    "        padding='max_length',\n",
    "        max_length=512,\n",
    "        return_tensors='pt'\n",
    "    )\n",
    "\n",
    "    input_ids = encoding['input_ids'].to(device)\n",
    "    attention_mask = encoding['attention_mask'].to(device)\n",
    "\n",
    "    with torch.no_grad():\n",
    "        outputs = model(input_ids, attention_mask)\n",
    "        probs = torch.sigmoid(outputs).cpu().numpy()\n",
    "\n",
    "    predicted_labels = (probs >= threshold).astype(int)\n",
    "    predicted_genres = [index_to_genre[i] for i, label in enumerate(predicted_labels[0]) if label == 1]\n",
    "\n",
    "    return predicted_genres"
   ]
  },
  {
   "cell_type": "code",
   "execution_count": 28,
   "id": "0a58342d-ca61-490b-ab21-3183886fe403",
   "metadata": {},
   "outputs": [
    {
     "data": {
      "text/plain": [
       "TextClassifier(\n",
       "  (emb): Embedding(30522, 128)\n",
       "  (attention_pooling): SelfAttentionPooling()\n",
       "  (transformer_encoder): TransformerEncoder(\n",
       "    (layers): ModuleList(\n",
       "      (0-3): 4 x TransformerEncoderLayer(\n",
       "        (self_attn): MultiheadAttention(\n",
       "          (out_proj): NonDynamicallyQuantizableLinear(in_features=128, out_features=128, bias=True)\n",
       "        )\n",
       "        (linear1): Linear(in_features=128, out_features=256, bias=True)\n",
       "        (dropout): Dropout(p=0.3, inplace=False)\n",
       "        (linear2): Linear(in_features=256, out_features=128, bias=True)\n",
       "        (norm1): LayerNorm((128,), eps=1e-05, elementwise_affine=True)\n",
       "        (norm2): LayerNorm((128,), eps=1e-05, elementwise_affine=True)\n",
       "        (dropout1): Dropout(p=0.3, inplace=False)\n",
       "        (dropout2): Dropout(p=0.3, inplace=False)\n",
       "      )\n",
       "    )\n",
       "  )\n",
       "  (dropout): Dropout(p=0.5, inplace=False)\n",
       "  (fc1): Linear(in_features=128, out_features=256, bias=True)\n",
       "  (fc2): Linear(in_features=256, out_features=128, bias=True)\n",
       "  (fc3): Linear(in_features=128, out_features=18, bias=True)\n",
       "  (layernorm_final): LayerNorm((128,), eps=1e-05, elementwise_affine=True)\n",
       ")"
      ]
     },
     "execution_count": 28,
     "metadata": {},
     "output_type": "execute_result"
    }
   ],
   "source": [
    "model_test = TextClassifier(\n",
    "    vocab_size=vocab_size,\n",
    "    emb_dim=emb_dim,\n",
    "    hidden_dim=hidden_dim,\n",
    "    num_classes=num_classes,\n",
    "    num_heads=num_heads,\n",
    "    max_seq_length=max_seq_length,\n",
    "    num_attention_layers=num_attention_layers,\n",
    "    feedforward_dim=feedforward_dim,\n",
    "    num_dropout_samples=num_dropout_samples\n",
    ").to(device)\n",
    "\n",
    "model_test.load_state_dict(torch.load(\"movie_genre_model.pth\"))\n",
    "model_test.eval()"
   ]
  },
  {
   "cell_type": "code",
   "execution_count": 29,
   "id": "1761fbbb-ff36-4a9d-b123-40c8057c7766",
   "metadata": {},
   "outputs": [],
   "source": [
    "description = (\n",
    "    \"A relentless high-speed chase through shadowy, abandoned streets catapults the protagonist \"\n",
    "    \"into a nightmarish world where unspeakable horrors await at every turn. Pursued not only by \"\n",
    "    \"ruthless mercenaries but also by terrifying supernatural forces, each moment is a desperate \"\n",
    "    \"fight for survival. As the line between reality and nightmare blurs, the hero must navigate \"\n",
    "    \"crumbling buildings, escape grotesque monsters lurking in the darkness, and confront \"\n",
    "    \"blood-soaked secrets that threaten to consume them. The pulse-pounding action is matched \"\n",
    "    \"only by the creeping dread that no place is safe and no one can be trusted in this brutal \"\n",
    "    \"race against time and terror.\"\n",
    ")"
   ]
  },
  {
   "cell_type": "code",
   "execution_count": 30,
   "id": "8740d4cd-9c0b-44c9-a13c-9422a0176420",
   "metadata": {},
   "outputs": [
    {
     "name": "stdout",
     "output_type": "stream",
     "text": [
      "['Action', 'Science Fiction']\n"
     ]
    }
   ],
   "source": [
    "predictions = predict_genres(description, model_test, tokenizer, genre_to_index, device='cpu')\n",
    "print(predictions)"
   ]
  },
  {
   "cell_type": "code",
   "execution_count": null,
   "id": "29f63560-2b53-442a-ad0a-84839c3943af",
   "metadata": {},
   "outputs": [],
   "source": []
  }
 ],
 "metadata": {
  "kernelspec": {
   "display_name": "Python 3 (ipykernel)",
   "language": "python",
   "name": "python3"
  },
  "language_info": {
   "codemirror_mode": {
    "name": "ipython",
    "version": 3
   },
   "file_extension": ".py",
   "mimetype": "text/x-python",
   "name": "python",
   "nbconvert_exporter": "python",
   "pygments_lexer": "ipython3",
   "version": "3.12.7"
  }
 },
 "nbformat": 4,
 "nbformat_minor": 5
}
